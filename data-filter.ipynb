{
 "cells": [
  {
   "cell_type": "code",
   "execution_count": 2,
   "id": "bd9912d7",
   "metadata": {},
   "outputs": [],
   "source": [
    "import geopandas as gpd\n",
    "events = gpd.read_file('map.geojson')"
   ]
  },
  {
   "cell_type": "code",
   "execution_count": 3,
   "id": "3f91634e",
   "metadata": {},
   "outputs": [
    {
     "data": {
      "text/html": [
       "<div>\n",
       "<style scoped>\n",
       "    .dataframe tbody tr th:only-of-type {\n",
       "        vertical-align: middle;\n",
       "    }\n",
       "\n",
       "    .dataframe tbody tr th {\n",
       "        vertical-align: top;\n",
       "    }\n",
       "\n",
       "    .dataframe thead th {\n",
       "        text-align: right;\n",
       "    }\n",
       "</style>\n",
       "<table border=\"1\" class=\"dataframe\">\n",
       "  <thead>\n",
       "    <tr style=\"text-align: right;\">\n",
       "      <th></th>\n",
       "      <th>event_name</th>\n",
       "      <th>event_date</th>\n",
       "      <th>event_link</th>\n",
       "      <th>halloween_bool</th>\n",
       "      <th>geometry</th>\n",
       "    </tr>\n",
       "  </thead>\n",
       "  <tbody>\n",
       "    <tr>\n",
       "      <th>0</th>\n",
       "      <td>SuperNatural</td>\n",
       "      <td>October 28</td>\n",
       "      <td>https://www.calacademy.org/supernatural</td>\n",
       "      <td>0</td>\n",
       "      <td>POINT (-122.46637 37.77006)</td>\n",
       "    </tr>\n",
       "    <tr>\n",
       "      <th>1</th>\n",
       "      <td>Dia de los Muertos Concert, SF Symphony</td>\n",
       "      <td>November 5</td>\n",
       "      <td>https://www.sfsymphony.org/Buy-Tickets/2022-23...</td>\n",
       "      <td>1</td>\n",
       "      <td>POINT (-122.42001 37.77746)</td>\n",
       "    </tr>\n",
       "    <tr>\n",
       "      <th>2</th>\n",
       "      <td>Festival of Altars</td>\n",
       "      <td>November 2</td>\n",
       "      <td>https://www.dayofthedeadsf.org/festival-of-altars</td>\n",
       "      <td>1</td>\n",
       "      <td>POINT (-122.40536 37.75060)</td>\n",
       "    </tr>\n",
       "    <tr>\n",
       "      <th>3</th>\n",
       "      <td>Mission Cultural Center Dia de los Muertos Cel...</td>\n",
       "      <td>October 28-November 18</td>\n",
       "      <td>https://missionculturalcenter.org/event/day-of...</td>\n",
       "      <td>1</td>\n",
       "      <td>POINT (-122.41860 37.75101)</td>\n",
       "    </tr>\n",
       "    <tr>\n",
       "      <th>4</th>\n",
       "      <td>41st Annual Day of the Dead Ritual Procession</td>\n",
       "      <td>November 2</td>\n",
       "      <td>https://www.instagram.com/p/CkEWS94ynBM/</td>\n",
       "      <td>1</td>\n",
       "      <td>POINT (-122.40947 37.75600)</td>\n",
       "    </tr>\n",
       "  </tbody>\n",
       "</table>\n",
       "</div>"
      ],
      "text/plain": [
       "                                          event_name              event_date  \\\n",
       "0                                       SuperNatural              October 28   \n",
       "1            Dia de los Muertos Concert, SF Symphony              November 5   \n",
       "2                                 Festival of Altars              November 2   \n",
       "3  Mission Cultural Center Dia de los Muertos Cel...  October 28-November 18   \n",
       "4      41st Annual Day of the Dead Ritual Procession              November 2   \n",
       "\n",
       "                                          event_link  halloween_bool  \\\n",
       "0            https://www.calacademy.org/supernatural               0   \n",
       "1  https://www.sfsymphony.org/Buy-Tickets/2022-23...               1   \n",
       "2  https://www.dayofthedeadsf.org/festival-of-altars               1   \n",
       "3  https://missionculturalcenter.org/event/day-of...               1   \n",
       "4           https://www.instagram.com/p/CkEWS94ynBM/               1   \n",
       "\n",
       "                      geometry  \n",
       "0  POINT (-122.46637 37.77006)  \n",
       "1  POINT (-122.42001 37.77746)  \n",
       "2  POINT (-122.40536 37.75060)  \n",
       "3  POINT (-122.41860 37.75101)  \n",
       "4  POINT (-122.40947 37.75600)  "
      ]
     },
     "execution_count": 3,
     "metadata": {},
     "output_type": "execute_result"
    }
   ],
   "source": [
    "events.head()"
   ]
  },
  {
   "cell_type": "code",
   "execution_count": 9,
   "id": "fd532b8f",
   "metadata": {},
   "outputs": [],
   "source": [
    "hlw = events[events.halloween_bool==0]\n",
    "dod = events[events.halloween_bool==1]"
   ]
  },
  {
   "cell_type": "code",
   "execution_count": 10,
   "id": "481154c8",
   "metadata": {},
   "outputs": [],
   "source": [
    "hlw.to_file(\"hlw.geojson\", driver='GeoJSON')\n",
    "dod.to_file(\"dod.geojson\", driver='GeoJSON')"
   ]
  },
  {
   "cell_type": "code",
   "execution_count": 11,
   "id": "f5bdaf9a",
   "metadata": {},
   "outputs": [
    {
     "data": {
      "text/plain": [
       "1    10\n",
       "0     9\n",
       "Name: halloween_bool, dtype: int64"
      ]
     },
     "execution_count": 11,
     "metadata": {},
     "output_type": "execute_result"
    }
   ],
   "source": [
    "events.halloween_bool.value_counts()"
   ]
  }
 ],
 "metadata": {
  "kernelspec": {
   "display_name": "Python 3 (ipykernel)",
   "language": "python",
   "name": "python3"
  },
  "language_info": {
   "codemirror_mode": {
    "name": "ipython",
    "version": 3
   },
   "file_extension": ".py",
   "mimetype": "text/x-python",
   "name": "python",
   "nbconvert_exporter": "python",
   "pygments_lexer": "ipython3",
   "version": "3.9.7"
  }
 },
 "nbformat": 4,
 "nbformat_minor": 5
}
